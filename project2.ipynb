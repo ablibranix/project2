{
 "cells": [
  {
   "cell_type": "code",
   "execution_count": null,
   "id": "ba11e893",
   "metadata": {},
   "outputs": [],
   "source": [
    "import pandas as pd\n",
    "import numpy as np\n",
    "import seaborn as sns\n",
    "from matplotlib import pyplot as plt\n",
    "import scipy.stats as stats"
   ]
  },
  {
   "cell_type": "code",
   "execution_count": null,
   "id": "610bc5e0",
   "metadata": {},
   "outputs": [],
   "source": [
    "crimeHousing = pd.read_csv('crime-housing-austin-2015.csv')\n",
    "zipCodes = pd.read_csv('AustinZipCodes.csv')\n",
    "pd.set_option('display.max_columns', None)"
   ]
  },
  {
   "cell_type": "markdown",
   "id": "1224a26d",
   "metadata": {},
   "source": [
    "# Crime per Month"
   ]
  },
  {
   "cell_type": "code",
   "execution_count": null,
   "id": "27fccf90",
   "metadata": {},
   "outputs": [],
   "source": []
  },
  {
   "cell_type": "markdown",
   "id": "ea780963",
   "metadata": {},
   "source": [
    "# Housing vs Crime"
   ]
  },
  {
   "cell_type": "code",
   "execution_count": null,
   "id": "bfd22c71",
   "metadata": {},
   "outputs": [],
   "source": [
    "crimeAustin = crimeHousing[crimeHousing.Zip_Code_Housing.notna()]\n",
    "crimeAustin = crimeHousing[['Highest_NIBRS_UCR_Offense_Description','Zip_Code_Crime']].reset_index()"
   ]
  },
  {
   "cell_type": "code",
   "execution_count": null,
   "id": "20a8c9b5",
   "metadata": {
    "scrolled": true
   },
   "outputs": [],
   "source": [
    "chart = sns.countplot(x='Highest_NIBRS_UCR_Offense_Description', data=crimeAustin)\n",
    "plt.xticks(rotation=15)\n",
    "chart.set_title('Amount of Crimes')\n",
    "chart.set_xlabel('Crime')\n",
    "chart.set_ylabel('Amount')\n",
    "plt.savefig('overall-crime-stats.pdf')"
   ]
  },
  {
   "cell_type": "code",
   "execution_count": null,
   "id": "ec52ea6c",
   "metadata": {},
   "outputs": [],
   "source": [
    "theft = crimeAustin[(crimeAustin.Highest_NIBRS_UCR_Offense_Description == \"Theft\")]\n",
    "theft = theft[theft.Zip_Code_Crime.notna()]\n",
    "theft.Zip_Code_Crime = theft.Zip_Code_Crime.astype('int')\n",
    "theftCrime = theft.groupby('Zip_Code_Crime').agg({'Highest_NIBRS_UCR_Offense_Description': 'count'})\n",
    "theftCrime.sort_values(by=['Highest_NIBRS_UCR_Offense_Description'])\n",
    "ax = sns.scatterplot(data=theftCrime)\n",
    "ax.set_title('Thefts in Zip Code')\n",
    "ax.set_xlabel('Zip Code of Crime')\n",
    "ax.set_ylabel('Amount of Thefts')"
   ]
  },
  {
   "cell_type": "code",
   "execution_count": null,
   "id": "c3df920b",
   "metadata": {},
   "outputs": [],
   "source": [
    "housing = crimeHousing[['Zip_Code_Housing', 'Medianhouseholdincome']].reset_index()\n",
    "housing = housing[housing.Zip_Code_Housing.notna()]\n",
    "housing.Zip_Code_Housing = housing.Zip_Code_Housing.astype('int')\n",
    "housing['Medianhouseholdincome'] = housing['Medianhouseholdincome'].str.replace('$', '').astype('float')\n",
    "housing = housing.groupby('Zip_Code_Housing').agg({'Medianhouseholdincome': 'mean'})\n",
    "housing.sort_values(by='Zip_Code_Housing')\n",
    "#display(stats.pearsonr(housing.Medianhouseholdincome, housing.Zip_Code_Housing))\n",
    "ax = sns.scatterplot(data=housing)\n",
    "ax.set_title('Household income per Zip Code')\n",
    "ax.set_xlabel('Zip Code of Housing')\n",
    "ax.set_ylabel('Median Household Income')"
   ]
  },
  {
   "cell_type": "code",
   "execution_count": null,
   "id": "a05838e1",
   "metadata": {},
   "outputs": [],
   "source": [
    "pearTheft = crimeHousing[(crimeAustin.Highest_NIBRS_UCR_Offense_Description == \"Theft\")]\n",
    "pearTheft = pearTheft[pearTheft.Zip_Code_Housing.notna()]\n",
    "pearTheft = pearTheft[pearTheft.Zip_Code_Crime.notna()]\n",
    "pearTheft.Zip_Code_Housing = pearTheft.Zip_Code_Housing.astype('int')\n",
    "pearTheft.Zip_Code_Crime = pearTheft.Zip_Code_Crime.astype('int')\n",
    "pearTheft = pearTheft[['Highest_NIBRS_UCR_Offense_Description', 'Zip_Code_Crime','Zip_Code_Housing', 'Medianhouseholdincome']].reset_index()\n",
    "pearTheft['Medianhouseholdincome'] = pearTheft['Medianhouseholdincome'].str.replace('$', '').astype('float')\n",
    "display(stats.pearsonr(pearTheft.Zip_Code_Housing, pearTheft.Zip_Code_Crime))\n",
    "display(stats.pearsonr(pearTheft.Zip_Code_Housing, pearTheft.Medianhouseholdincome))\n",
    "display(stats.pearsonr(pearTheft.Zip_Code_Crime, pearTheft.Medianhouseholdincome))"
   ]
  },
  {
   "cell_type": "code",
   "execution_count": null,
   "id": "f133ff53",
   "metadata": {},
   "outputs": [],
   "source": []
  }
 ],
 "metadata": {
  "kernelspec": {
   "display_name": "Python 3 (ipykernel)",
   "language": "python",
   "name": "python3"
  },
  "language_info": {
   "codemirror_mode": {
    "name": "ipython",
    "version": 3
   },
   "file_extension": ".py",
   "mimetype": "text/x-python",
   "name": "python",
   "nbconvert_exporter": "python",
   "pygments_lexer": "ipython3",
   "version": "3.11.1"
  }
 },
 "nbformat": 4,
 "nbformat_minor": 5
}
