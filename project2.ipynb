{
 "cells": [
  {
   "cell_type": "code",
   "execution_count": null,
   "id": "ba11e893",
   "metadata": {},
   "outputs": [],
   "source": [
    "import pandas as pd\n",
    "import numpy as np\n",
    "import seaborn as sns\n",
    "from matplotlib import pyplot as plt\n",
    "import scipy.stats as stats"
   ]
  },
  {
   "cell_type": "code",
   "execution_count": null,
   "id": "610bc5e0",
   "metadata": {},
   "outputs": [],
   "source": [
    "crimeHousing = pd.read_csv('crime-housing-austin-2015.csv')\n",
    "zipCodes = pd.read_csv('AustinZipCodes.csv')\n",
    "pd.set_option('display.max_columns', None)"
   ]
  },
  {
   "cell_type": "markdown",
   "id": "1224a26d",
   "metadata": {},
   "source": [
    "# Crime per Month"
   ]
  },
  {
   "cell_type": "code",
   "execution_count": null,
   "id": "27fccf90",
   "metadata": {},
   "outputs": [],
   "source": []
  },
  {
   "cell_type": "markdown",
   "id": "ea780963",
   "metadata": {},
   "source": [
    "# Housing vs Crime"
   ]
  },
  {
   "cell_type": "code",
   "execution_count": null,
   "id": "20a8c9b5",
   "metadata": {
    "scrolled": true
   },
   "outputs": [],
   "source": [
    "crimeAustin = crimeHousing[['Highest_Offense_Desc', 'Highest_NIBRS_UCR_Offense_Description', 'Clearance_Status', 'District', 'Zip_Code_Crime']].reset_index()\n",
    "crimeAustin = crimeHousing[crimeHousing.Zip_Code_Housing.notna()]"
   ]
  },
  {
   "cell_type": "code",
   "execution_count": null,
   "id": "76016578",
   "metadata": {},
   "outputs": [],
   "source": [
    "sns.countplot(x='Highest_NIBRS_UCR_Offense_Description', data=crimeAustin)\n",
    "plt.xticks(rotation=60)"
   ]
  },
  {
   "cell_type": "code",
   "execution_count": null,
   "id": "ec52ea6c",
   "metadata": {},
   "outputs": [],
   "source": [
    "theft = crimeAustin[(crimeAustin.Highest_NIBRS_UCR_Offense_Description == \"Theft\")]\n",
    "theft = theft[theft.Zip_Code_Housing.notna()]\n",
    "sns.displot(x='Zip_Code_Crime', data=theft)\n",
    "plt.xticks(rotation=60)"
   ]
  },
  {
   "cell_type": "code",
   "execution_count": null,
   "id": "a413febd",
   "metadata": {},
   "outputs": [],
   "source": [
    "housing = crimeHousing.copy()\n",
    "housing = crimeHousing[crimeHousing.Zip_Code_Housing.notna()]"
   ]
  },
  {
   "cell_type": "code",
   "execution_count": null,
   "id": "c3df920b",
   "metadata": {},
   "outputs": [],
   "source": [
    "housing = crimeHousing[['Council_District', 'Zip_Code_Housing', 'Medianhouseholdincome']].reset_index()\n",
    "housing = housing.sort_values(by='Medianhouseholdincome', ascending=True)\n",
    "housing"
   ]
  },
  {
   "cell_type": "code",
   "execution_count": null,
   "id": "9d6b7c25",
   "metadata": {},
   "outputs": [],
   "source": [
    "sns.scatterplot(data=housing, x='Zip_Code_Housing', y='Medianhouseholdincome' )"
   ]
  },
  {
   "cell_type": "code",
   "execution_count": null,
   "id": "d47596e3",
   "metadata": {},
   "outputs": [],
   "source": []
  }
 ],
 "metadata": {
  "kernelspec": {
   "display_name": "Python 3 (ipykernel)",
   "language": "python",
   "name": "python3"
  },
  "language_info": {
   "codemirror_mode": {
    "name": "ipython",
    "version": 3
   },
   "file_extension": ".py",
   "mimetype": "text/x-python",
   "name": "python",
   "nbconvert_exporter": "python",
   "pygments_lexer": "ipython3",
   "version": "3.11.1"
  }
 },
 "nbformat": 4,
 "nbformat_minor": 5
}
